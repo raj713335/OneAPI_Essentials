{
 "cells": [
  {
   "cell_type": "markdown",
   "metadata": {},
   "source": [
    "# VTune™ Profiling on Intel® DevCloud"
   ]
  },
  {
   "cell_type": "markdown",
   "metadata": {},
   "source": [
    "##### Sections\n",
    "- [What is VTune™ Profiler?](#What-is-VTune™-Profiler?)\n",
    "- [VTune™ Command-line Options](#VTune™-Command-line-Options)\n",
    "- _Lab Exercise:_ [VTune™ gpu_hotspots profiling with iso3dfd sample](#Lab-Exercise:-VTune™-Profiling)"
   ]
  },
  {
   "cell_type": "markdown",
   "metadata": {},
   "source": [
    "## Learning Objectives"
   ]
  },
  {
   "cell_type": "markdown",
   "metadata": {},
   "source": [
    "- Profile a DPC++ application using the VTune™ profiling tool on Intel® DevCloud\n",
    "- Understand the basics of VTune™ command line options for collecting data and generating reports"
   ]
  },
  {
   "cell_type": "markdown",
   "metadata": {},
   "source": [
    "## What is VTune™ Profiler?"
   ]
  },
  {
   "cell_type": "markdown",
   "metadata": {},
   "source": [
    "VTune™ allows DPC++ Profiling capabilities so you can tune for CPU, GPU, and FPGA.\n",
    "\n",
    "![VTune UI](vtuneui.png)\n",
    "\n",
    "__Analyze Data Parallell C++__ :\n",
    "See the lines of DPC++ that consume the most time\n",
    "\n",
    "__Tune for CPU, GPU & FPGA__ :\n",
    "Optimize for any supported hardware accelerator\n",
    "\n",
    "__Optimize Offload__ :\n",
    "Tune OpenMP offload performance\n",
    "\n",
    "__Wide Range of Performance Profiles__ :\n",
    "CPU, GPU, FPGA, threading, memory, cache, storage…\n",
    "\n",
    "__Most Popular Languages__ :\n",
    "DPC++, C, C++, Fortran*, Python*, Go*, Java*, or a mix\n"
   ]
  },
  {
   "cell_type": "markdown",
   "metadata": {},
   "source": [
    "## VTune™ Command-line Options"
   ]
  },
  {
   "cell_type": "markdown",
   "metadata": {},
   "source": [
    "### Run and collect VTune™ data\n",
    "```vtune -collect gpu_hotspots -result-dir vtune_data a.out```\n",
    "\n",
    "Various types of profiling data can be collected like `hotspots`, `memory-consumption`, `memory-access`, `threading`…\n",
    "\n",
    "Use the command line help to find out more:\n",
    "\n",
    "```vtune --help -collect```\n",
    "\n",
    "### Generate html report for collected VTune™ data:\n",
    "```vtune -report summary -result-dir vtune_data -format html -report-output $(pwd)/summary.html```\n",
    "\n",
    "Various types of report can be generated like `summary`, `top-down`, `callstacks`…\n",
    "\n",
    "Use the command line help to find out more:\n",
    "\n",
    "```vtune --help -report```\n"
   ]
  },
  {
   "cell_type": "markdown",
   "metadata": {},
   "source": [
    "## When to use VTune™ Command line"
   ]
  },
  {
   "cell_type": "markdown",
   "metadata": {},
   "source": [
    "VTune™ Command-line is useful when on __Intel® DevCloud__ or you only have __SSH__ access to development system.\n",
    "\n",
    "However, it is recommended to install the __full VTune™ version__ on a local system and use the __UI rich experience__ of VTune Profiling Tool.\n",
    "\n",
    "![VTune UI](vtuneui.png)\n"
   ]
  },
  {
   "cell_type": "markdown",
   "metadata": {},
   "source": [
    "## Lab Exercise: VTune™ Profiling\n",
    "- Build, run, collect VTune™ data and display VTune summary when running on gpu and cpu."
   ]
  },
  {
   "cell_type": "markdown",
   "metadata": {},
   "source": [
    "### Test Application: DPC++ implementation of iso3dfd"
   ]
  },
  {
   "cell_type": "markdown",
   "metadata": {},
   "source": [
    "DPC++ implementation of iso3dfd will be used to collect VTune™ data and analyze the generated result. Below are source code to iso3dfd application:\n",
    "- [iso3dfd.cpp](src/iso3dfd.cpp)\n",
    "- [iso3dfd_kernels.cpp](src/iso3dfd_kernels.cpp)\n"
   ]
  },
  {
   "cell_type": "markdown",
   "metadata": {},
   "source": [
    "### Build and Run"
   ]
  },
  {
   "cell_type": "code",
   "execution_count": 1,
   "metadata": {},
   "outputs": [
    {
     "name": "stdout",
     "output_type": "stream",
     "text": [
      "Overwriting run_iso3dfd.sh\n"
     ]
    }
   ],
   "source": [
    "%%writefile run_iso3dfd.sh\n",
    "#!/bin/bash\n",
    "source /opt/intel/inteloneapi/setvars.sh > /dev/null 2>&1\n",
    "\n",
    "dpcpp src/iso3dfd.cpp src/utils.cpp src/iso3dfd_kernels.cpp -o iso3dfd\n",
    "\n",
    "./iso3dfd 256 256 256 8 8 8 20 sycl gpu\n",
    "\n",
    "\n"
   ]
  },
  {
   "cell_type": "markdown",
   "metadata": {},
   "source": [
    "**STEP 1:** Build and Run the iso3dfd app by running ▶ the command below:"
   ]
  },
  {
   "cell_type": "code",
   "execution_count": 2,
   "metadata": {},
   "outputs": [
    {
     "name": "stdout",
     "output_type": "stream",
     "text": [
      "Job has been submitted to Intel(R) DevCloud and will execute soon.\n",
      "\n",
      "Job ID                    Name             User            Time Use S Queue\n",
      "------------------------- ---------------- --------------- -------- - -----\n",
      "2256147.v-qsvr-1           ...ub-singleuser u181188         00:00:29 R jupyterhub     \n",
      "2256226.v-qsvr-1           run_simple.sh    u181188         00:11:10 R batch          \n",
      "2256240.v-qsvr-1           run_iso3dfd.sh   u181188                0 Q batch          \n",
      "\n",
      "Waiting for Output █████████████████████████████████████████████████████████████████ Done⬇\n",
      "\n",
      "########################################################################\n",
      "#      Date:           Sat 18 Mar 2023 05:03:09 PM PDT\n",
      "#    Job ID:           2256240.v-qsvr-1.aidevcloud\n",
      "#      User:           u181188\n",
      "# Resources:           cput=75:00:00,neednodes=1:gpu:ppn=2,nodes=1:gpu:ppn=2,walltime=06:00:00\n",
      "########################################################################\n",
      "\n",
      "Grid Sizes: 256 256 256\n",
      "Memory Usage: 230 MB\n",
      " ***** Running SYCL variant *****\n",
      "Initializing ... \n",
      " Running on Intel(R) UHD Graphics [0x9a60]\n",
      " The Device Max Work Group Size is : 512\n",
      " The Device Max EUCount is : 32\n",
      " The blockSize x is : 8\n",
      " The blockSize y is : 8\n",
      " Using Global Memory Kernel : \n",
      "SYCL time: 647 ms\n",
      "--------------------------------------\n",
      "time         : 0.647 secs\n",
      "throughput   : 518.616 Mpts/s\n",
      "flops        : 31.6356 GFlops\n",
      "bytes        : 6.22339 GBytes/s\n",
      "\n",
      "--------------------------------------\n",
      "\n",
      "--------------------------------------\n",
      "\n",
      "########################################################################\n",
      "# End of output for job 2256240.v-qsvr-1.aidevcloud\n",
      "# Date: Sat 18 Mar 2023 05:03:28 PM PDT\n",
      "########################################################################\n",
      "\n",
      "icpx: warning: use of 'dpcpp' is deprecated and will be removed in a future release. Use 'icpx -fsycl' [-Wdeprecated]\n",
      "In file included from src/iso3dfd.cpp:35:\n",
      "src/../include/device_selector.hpp:23:43: warning: 'device_selector' is deprecated: Use SYCL 2020 callable device selectors instead. [-Wdeprecated-declarations]\n",
      "class MyDeviceSelector : public cl::sycl::device_selector {\n",
      "                                          ^\n",
      "/glob/development-tools/versions/oneapi/2023.0.1/oneapi/compiler/2023.0.0/linux/bin-llvm/../include/sycl/device_selector.hpp:34:21: note: 'device_selector' has been explicitly marked deprecated here\n",
      "class __SYCL_EXPORT __SYCL2020_DEPRECATED(\n",
      "                    ^\n",
      "/glob/development-tools/versions/oneapi/2023.0.1/oneapi/compiler/2023.0.0/linux/bin-llvm/../include/sycl/detail/defines_elementary.hpp:52:40: note: expanded from macro '__SYCL2020_DEPRECATED'\n",
      "#define __SYCL2020_DEPRECATED(message) __SYCL_DEPRECATED(message)\n",
      "                                       ^\n",
      "/glob/development-tools/versions/oneapi/2023.0.1/oneapi/compiler/2023.0.0/linux/bin-llvm/../include/sycl/detail/defines_elementary.hpp:43:38: note: expanded from macro '__SYCL_DEPRECATED'\n",
      "#define __SYCL_DEPRECATED(message) [[deprecated(message)]]\n",
      "                                     ^\n",
      "1 warning generated.\n",
      "In file included from src/iso3dfd.cpp:35:\n",
      "src/../include/device_selector.hpp:23:43: warning: 'device_selector' is deprecated: Use SYCL 2020 callable device selectors instead. [-Wdeprecated-declarations]\n",
      "class MyDeviceSelector : public cl::sycl::device_selector {\n",
      "                                          ^\n",
      "/glob/development-tools/versions/oneapi/2023.0.1/oneapi/compiler/2023.0.0/linux/bin-llvm/../include/sycl/device_selector.hpp:34:21: note: 'device_selector' has been explicitly marked deprecated here\n",
      "class __SYCL_EXPORT __SYCL2020_DEPRECATED(\n",
      "                    ^\n",
      "/glob/development-tools/versions/oneapi/2023.0.1/oneapi/compiler/2023.0.0/linux/bin-llvm/../include/sycl/detail/defines_elementary.hpp:52:40: note: expanded from macro '__SYCL2020_DEPRECATED'\n",
      "#define __SYCL2020_DEPRECATED(message) __SYCL_DEPRECATED(message)\n",
      "                                       ^\n",
      "/glob/development-tools/versions/oneapi/2023.0.1/oneapi/compiler/2023.0.0/linux/bin-llvm/../include/sycl/detail/defines_elementary.hpp:43:38: note: expanded from macro '__SYCL_DEPRECATED'\n",
      "#define __SYCL_DEPRECATED(message) [[deprecated(message)]]\n",
      "                                     ^\n",
      "1 warning generated.\n",
      "Job Completed in 65 seconds.\n"
     ]
    }
   ],
   "source": [
    "! chmod 755 q; chmod 755 run_iso3dfd.sh; if [ -x \"$(command -v qsub)\" ]; then ./q run_iso3dfd.sh; else ./run_iso3dfd.sh; fi"
   ]
  },
  {
   "cell_type": "markdown",
   "metadata": {},
   "source": [
    "## Analyze performance with VTune™"
   ]
  },
  {
   "cell_type": "markdown",
   "metadata": {},
   "source": [
    "Use VTune™ command line to analyze performace on GPU vs CPU and display the summary"
   ]
  },
  {
   "cell_type": "markdown",
   "metadata": {},
   "source": [
    "### VTune™ Command Line for collecting and reporting"
   ]
  },
  {
   "cell_type": "code",
   "execution_count": 3,
   "metadata": {},
   "outputs": [
    {
     "name": "stdout",
     "output_type": "stream",
     "text": [
      "Overwriting vtune_collect.sh\n"
     ]
    }
   ],
   "source": [
    "%%writefile vtune_collect.sh\n",
    "#!/bin/bash\n",
    "source /opt/intel/inteloneapi/setvars.sh\n",
    "/bin/echo \"##\" $(whoami) is compiling DPCPP_Essentials Module6 -- Intel Vtune profiler - 1 of 1 Vtune_Profiler\n",
    "#vtune\n",
    "#type=hotspots\n",
    "#type=memory-consumption\n",
    "#type=uarch-exploration\n",
    "#type=memory-access\n",
    "#type=threading\n",
    "#type=hpc-performance\n",
    "#type=system-overview\n",
    "#type=graphics-rendering\n",
    "#type=io\n",
    "#type=fpga-interaction\n",
    "#type=gpu-offload\n",
    "type=gpu-hotspots\n",
    "#type=throttling\n",
    "#type=platform-profiler\n",
    "#type=cpugpu-concurrency\n",
    "#type=tsx-exploration\n",
    "#type=tsx-hotspots\n",
    "#type=sgx-hotspots\n",
    "\n",
    "rm -r vtune_data\n",
    "\n",
    "echo \"Vtune Collect $type\"\n",
    "vtune -collect $type -result-dir vtune_data $(pwd)/iso3dfd 256 256 256 8 8 8 20 sycl gpu\n",
    "\n",
    "echo \"Vtune Summary Report\"\n",
    "vtune -report summary -result-dir vtune_data -format html -report-output $(pwd)/summary.html\n",
    "\n"
   ]
  },
  {
   "cell_type": "markdown",
   "metadata": {},
   "source": [
    "### Run VTune™ to Collect Hotspots and Generate Report"
   ]
  },
  {
   "cell_type": "markdown",
   "metadata": {},
   "source": [
    "**STEP 2:** Collect VTune™ data and generate report by running ▶ the command below:"
   ]
  },
  {
   "cell_type": "code",
   "execution_count": 4,
   "metadata": {},
   "outputs": [
    {
     "name": "stdout",
     "output_type": "stream",
     "text": [
      "Job has been submitted to Intel(R) DevCloud and will execute soon.\n",
      "\n",
      "Job ID                    Name             User            Time Use S Queue\n",
      "------------------------- ---------------- --------------- -------- - -----\n",
      "2256147.v-qsvr-1           ...ub-singleuser u181188         00:00:31 R jupyterhub     \n",
      "2256226.v-qsvr-1           run_simple.sh    u181188         00:12:40 R batch          \n",
      "2256241.v-qsvr-1           vtune_collect.sh u181188                0 Q batch          \n",
      "\n",
      "Waiting for Output █████████████████████████████████████████████████ Done⬇\n",
      "\n",
      "########################################################################\n",
      "#      Date:           Sat 18 Mar 2023 05:04:14 PM PDT\n",
      "#    Job ID:           2256241.v-qsvr-1.aidevcloud\n",
      "#      User:           u181188\n",
      "# Resources:           cput=75:00:00,neednodes=1:gpu:ppn=2,nodes=1:gpu:ppn=2,walltime=06:00:00\n",
      "########################################################################\n",
      "\n",
      " \n",
      ":: initializing oneAPI environment ...\n",
      "   2256241.v-qsvr-1.aidevcloud.SC: BASH_VERSION = 5.0.17(1)-release\n",
      "   args: Using \"$@\" for setvars.sh arguments: \n",
      ":: advisor -- latest\n",
      ":: ccl -- latest\n",
      ":: clck -- latest\n",
      ":: compiler -- latest\n",
      ":: dal -- latest\n",
      ":: debugger -- latest\n",
      ":: dev-utilities -- latest\n",
      ":: dnnl -- latest\n",
      ":: dpcpp-ct -- latest\n",
      ":: dpl -- latest\n",
      ":: embree -- latest\n",
      ":: inspector -- latest\n",
      ":: intelpython -- latest\n",
      ":: ipp -- latest\n",
      ":: ippcp -- latest\n",
      ":: ipp -- latest\n",
      ":: ispc -- latest\n",
      ":: itac -- latest\n",
      ":: mkl -- latest\n",
      ":: modelzoo -- latest\n",
      ":: modin -- latest\n",
      ":: mpi -- latest\n",
      ":: neural-compressor -- latest\n",
      ":: oidn -- latest\n",
      ":: openvkl -- latest\n",
      ":: ospray -- latest\n",
      ":: ospray_studio -- latest\n",
      ":: pytorch -- latest\n",
      ":: rkcommon -- latest\n",
      ":: rkutil -- latest\n",
      ":: tbb -- latest\n",
      ":: tensorflow -- latest\n",
      ":: vpl -- latest\n",
      ":: vtune -- latest\n",
      ":: oneAPI environment initialized ::\n",
      " \n",
      "## u181188 is compiling DPCPP_Essentials Module6 -- Intel Vtune profiler - 1 of 1 Vtune_Profiler\n",
      "Vtune Collect gpu-hotspots\n",
      "Grid Sizes: 256 256 256\n",
      "Memory Usage: 230 MB\n",
      " ***** Running SYCL variant *****\n",
      "Initializing ... \n",
      " Running on Intel(R) UHD Graphics [0x9a60]\n",
      " The Device Max Work Group Size is : 512\n",
      " The Device Max EUCount is : 32\n",
      " The blockSize x is : 8\n",
      " The blockSize y is : 8\n",
      " Using Global Memory Kernel : \n",
      "SYCL time: 713 ms\n",
      "--------------------------------------\n",
      "time         : 0.713 secs\n",
      "throughput   : 470.609 Mpts/s\n",
      "flops        : 28.7072 GFlops\n",
      "bytes        : 5.64731 GBytes/s\n",
      "\n",
      "--------------------------------------\n",
      "\n",
      "--------------------------------------\n",
      "Elapsed Time: 4.692s\n",
      "    GPU Time: 0.568s\n",
      "EU Array Stalled/Idle: 65.7% of Elapsed time with GPU busy\n",
      " | The percentage of time when the EUs were stalled or idle is high, which has a\n",
      " | negative impact on compute-bound applications.\n",
      " |\n",
      "    GPU L3 Bandwidth Bound: 92.1% of peak value\n",
      "     | L3 bandwidth was high when EUs were stalled or idle. Consider improving\n",
      "     | cache reuse.\n",
      "     |\n",
      "\n",
      "        Hottest GPU Computing Tasks Bound by GPU L3 Bandwidth\n",
      "        Computing Task                                                                                                                                                                                                                                                                        Total Time\n",
      "        ------------------------------------------------------------------------------------------------------------------------------------------------------------------------------------------------------------------------------------------------------------------------------------  ----------\n",
      "        iso_3dfd_device(sycl::_V1::queue&, float*, float*, float*, float*, unsigned long, unsigned long, unsigned long, unsigned long, unsigned long, unsigned long, unsigned long, unsigned int)::{lambda(sycl::_V1::handler&)#1}::operator()(sycl::_V1::handler&) const::iso_3dfd_kernel        0.269s\n",
      "        iso_3dfd_device(sycl::_V1::queue&, float*, float*, float*, float*, unsigned long, unsigned long, unsigned long, unsigned long, unsigned long, unsigned long, unsigned long, unsigned int)::{lambda(sycl::_V1::handler&)#1}::operator()(sycl::_V1::handler&) const::iso_3dfd_kernel_2      0.268s\n",
      "    Occupancy: 95.3% of peak value\n",
      "\n",
      "        Hottest GPU Computing Tasks with Low Occupancy\n",
      "        Computing Task  Total Time  SIMD Width  Peak EU Threads Occupancy(%)  Occupancy(%)  SIMD Utilization(%)\n",
      "        --------------  ----------  ----------  ----------------------------  ------------  -------------------\n",
      "    Sampler Busy: 0.0% of peak value\n",
      "\n",
      "        Hottest GPU Computing Tasks with High Sampler Usage\n",
      "        Computing Task  Total Time\n",
      "        --------------  ----------\n",
      "Collection and Platform Info\n",
      "    Application Command Line: /home/u181188/oneAPI_Essentials/06_Intel_VTune_Profiler/iso3dfd \"256\" \"256\" \"256\" \"8\" \"8\" \"8\" \"20\" \"sycl\" \"gpu\" \n",
      "    User Name: u181188\n",
      "    Operating System: 5.15.0-52-generic DISTRIB_ID=Ubuntu DISTRIB_RELEASE=20.04 DISTRIB_CODENAME=focal DISTRIB_DESCRIPTION=\"Ubuntu 20.04.5 LTS\"\n",
      "    Computer Name: s019-n008\n",
      "    Result Size: 56.1 MB \n",
      "    Collection start time: 00:04:21 19/03/2023 UTC\n",
      "    Collection stop time: 00:04:26 19/03/2023 UTC\n",
      "    Collector Type: Event-based sampling driver,User-mode sampling and tracing\n",
      "    CPU\n",
      "        Name: Intel(R) microarchitecture code named Tigerlake H\n",
      "        Frequency: 3.302 GHz\n",
      "        Logical CPU Count: 16\n",
      "    GPU\n",
      "        Name: Display controller: Intel Corporation Device 0x9a60\n",
      "        Vendor: Intel Corporation\n",
      "        EU Count: 32\n",
      "        Max EU Thread Count: 7\n",
      "        Max Core Frequency: 1.450 GHz\n",
      "        GPU OpenCL Info\n",
      "            Version\n",
      "            Max Compute Units: 32\n",
      "            Max Work Group Size: 512\n",
      "            Local Memory: 65.5 KB \n",
      "            SVM Capabilities\n",
      "\n",
      "If you want to skip descriptions of detected performance issues in the report,\n",
      "enter: vtune -report summary -report-knob show-issues=false -r <my_result_dir>.\n",
      "Alternatively, you may view the report in the csv format: vtune -report\n",
      "<report_name> -format=csv.\n",
      "Vtune Summary Report\n",
      "\n",
      "########################################################################\n",
      "# End of output for job 2256241.v-qsvr-1.aidevcloud\n",
      "# Date: Sat 18 Mar 2023 05:04:44 PM PDT\n",
      "########################################################################\n",
      "\n",
      "rm: cannot remove 'vtune_data': No such file or directory\n",
      "vtune: Warning: To enable hardware event-based sampling, VTune Profiler has disabled the NMI watchdog timer. The watchdog timer will be re-enabled after collection completes.\n",
      "Warning: PMU counter(s) [GP1 ] is (are) already in use by other software and the data collected on these counter(s) may be incorrect\n",
      "vtune: Collection started. To stop the collection, either press CTRL-C or enter from another console window: vtune -r /home/u181188/oneAPI_Essentials/06_Intel_VTune_Profiler/vtune_data -command stop.\n",
      "vtune: Collection stopped.\n",
      "vtune: Using result path `/home/u181188/oneAPI_Essentials/06_Intel_VTune_Profiler/vtune_data'\n",
      "vtune: Executing actions 19 % Resolving information for `libstdc++.so.6.0.28'  \n",
      "vtune: Warning: Cannot locate debugging information for file `/usr/lib/x86_64-linux-gnu/libpthread-2.31.so'.\n",
      "vtune: Executing actions 19 % Resolving information for `drm'                  \n",
      "vtune: Warning: Cannot locate debugging information for file `/usr/lib/x86_64-linux-gnu/libstdc++.so.6.0.28'.\n",
      "vtune: Warning: Cannot locate debugging information for file `/home/u181188/oneAPI_Essentials/06_Intel_VTune_Profiler/vtune_data/archive/binaries/90009f0ccff0bcba.clbin/40955f1b4f0843a0fbe39ae7792d393b/90009f0ccff0bcba.clbin'.\n",
      "vtune: Warning: Cannot locate debugging information for file `/lib/modules/5.15.0-52-generic/kernel/drivers/gpu/drm/drm.ko'.\n",
      "vtune: Warning: Cannot read load addresses of sections from `/sys/module/drm/sections'. This may affect the correctness of symbol resolution for `drm'. Make sure this directory exists and all files in this directory have read permissions.\n",
      "vtune: Executing actions 19 % Resolving information for `autofs4'              \n",
      "vtune: Warning: Cannot locate debugging information for file `/lib/x86_64-linux-gnu/libze_intel_gpu.so.1'.\n",
      "vtune: Warning: Cannot locate debugging information for file `/usr/lib/x86_64-linux-gnu/intel-opencl/libigdrcl.so'.\n",
      "vtune: Warning: Cannot locate debugging information for file `/lib/modules/5.15.0-52-generic/kernel/fs/autofs/autofs4.ko'.\n",
      "vtune: Warning: Cannot read load addresses of sections from `/sys/module/autofs4/sections'. This may affect the correctness of symbol resolution for `autofs4'. Make sure this directory exists and all files in this directory have read permissions.\n",
      "vtune: Executing actions 19 % Resolving information for `libtpsstool.so'       \n",
      "vtune: Warning: Cannot locate debugging information for file `/glob/development-tools/versions/oneapi/2023.0.1/oneapi/vtune/2023.0.0/lib64/libtpsstool.so'.\n",
      "vtune: Executing actions 19 % Resolving information for `nf_conntrack'         \n",
      "vtune: Warning: Cannot locate debugging information for file `/usr/lib/x86_64-linux-gnu/libze_intel_gpu.so.1.3.24055'.\n",
      "vtune: Executing actions 19 % Resolving information for `nfs'                  \n",
      "vtune: Warning: Cannot locate debugging information for file `/lib/modules/5.15.0-52-generic/kernel/net/netfilter/nf_conntrack.ko'.\n",
      "vtune: Warning: Cannot read load addresses of sections from `/sys/module/nf_conntrack/sections'. This may affect the correctness of symbol resolution for `nf_conntrack'. Make sure this directory exists and all files in this directory have read permissions.\n",
      "vtune: Warning: Cannot locate debugging information for file `/lib/modules/5.15.0-52-generic/kernel/fs/nfs/nfs.ko'.\n",
      "vtune: Warning: Cannot read load addresses of sections from `/sys/module/nfs/sections'. This may affect the correctness of symbol resolution for `nfs'. Make sure this directory exists and all files in this directory have read permissions.\n",
      "vtune: Executing actions 20 % Resolving information for `ld-2.31.so'           \n",
      "vtune: Warning: Cannot locate debugging information for file `/usr/lib/x86_64-linux-gnu/ld-2.31.so'.\n",
      "vtune: Executing actions 20 % Resolving information for `nfsv4'                \n",
      "vtune: Warning: Cannot locate debugging information for file `/lib/modules/5.15.0-52-generic/kernel/fs/nfs/nfsv4.ko'.\n",
      "vtune: Warning: Cannot read load addresses of sections from `/sys/module/nfsv4/sections'. This may affect the correctness of symbol resolution for `nfsv4'. Make sure this directory exists and all files in this directory have read permissions.\n",
      "vtune: Executing actions 20 % Resolving information for `libpthread.so.0'      \n",
      "vtune: Warning: Cannot locate debugging information for file `/lib/x86_64-linux-gnu/libpthread.so.0'.\n",
      "vtune: Executing actions 20 % Resolving information for `libgcc_s.so.1'        \n",
      "vtune: Warning: Cannot locate debugging information for file `/usr/lib/x86_64-linux-gnu/libgcc_s.so.1'.\n",
      "vtune: Executing actions 20 % Resolving information for `libigdfcl.so.1.0.11702\n",
      "vtune: Warning: Cannot locate debugging information for file `/usr/lib/x86_64-linux-gnu/libigdfcl.so.1.0.11702.1'.\n",
      "vtune: Executing actions 20 % Resolving information for `libxed.so'            \n",
      "vtune: Warning: Cannot locate file `vmlinux'.\n",
      "vtune: Executing actions 21 % Resolving information for `vmlinux'              \n",
      "vtune: Warning: Cannot locate debugging information for file `/usr/lib/x86_64-linux-gnu/libopencl-clang.so.11'.\n",
      "vtune: Warning: Cannot locate file `falcon_lsm_serviceable.ko'.\n",
      "vtune: Executing actions 21 % Resolving information for `libc.so.6'            \n",
      "vtune: Warning: Cannot locate debugging information for file `/lib/x86_64-linux-gnu/libc.so.6'.\n",
      "vtune: Warning: Cannot locate debugging information for the Linux kernel. Source-level analysis will not be possible. Function-level analysis will be limited to kernel symbol tables. See the Enabling Linux Kernel Analysis topic in the product online help for instructions.\n",
      "vtune: Executing actions 21 % Resolving information for `sunrpc'               \n",
      "vtune: Warning: Cannot locate file `falcon_kal.ko'.\n",
      "vtune: Executing actions 21 % Resolving information for `libOpenCL.so.1'       \n",
      "vtune: Warning: Cannot locate debugging information for file `/lib/modules/5.15.0-52-generic/kernel/net/sunrpc/sunrpc.ko'.\n",
      "vtune: Warning: Cannot read load addresses of sections from `/sys/module/sunrpc/sections'. This may affect the correctness of symbol resolution for `sunrpc'. Make sure this directory exists and all files in this directory have read permissions.\n",
      "vtune: Executing actions 21 % Resolving information for `libittnotify_collector\n",
      "vtune: Warning: Cannot locate debugging information for file `/glob/development-tools/versions/oneapi/2023.0.1/oneapi/vtune/2023.0.0/lib64/runtime/libittnotify_collector.so'.\n",
      "vtune: Executing actions 21 % Resolving information for `libc-dynamic.so'      \n",
      "vtune: Warning: Cannot locate debugging information for file `/glob/development-tools/versions/oneapi/2023.0.1/oneapi/vtune/2023.0.0/lib64/runtime/libittnotify_collector.so'.\n",
      "vtune: Executing actions 22 % Resolving information for `51407c42a8625602.clbin\n",
      "vtune: Warning: Cannot locate debugging information for file `/home/u181188/oneAPI_Essentials/06_Intel_VTune_Profiler/vtune_data/archive/binaries/51407c42a8625602.clbin/40955f1b4f0843a0fbe39ae7792d393b/51407c42a8625602.clbin'.\n",
      "vtune: Warning: Cannot locate debugging information for file `/lib/modules/5.15.0-52-generic/kernel/drivers/gpu/drm/i915/i915.ko'.\n",
      "vtune: Executing actions 22 % Resolving information for `libstlport-dynamic.so'\n",
      "vtune: Warning: Cannot locate file `sep5.ko'.\n",
      "vtune: Executing actions 22 % Resolving information for `libc-2.31.so'         \n",
      "vtune: Warning: Cannot locate debugging information for file `/usr/lib/x86_64-linux-gnu/libc-2.31.so'.\n",
      "vtune: Warning: Cannot locate file `falcon_lsm_pinned_14713.ko'.\n",
      "vtune: Executing actions 22 % Resolving information for `falcon_lsm_pinned_1471\n",
      "vtune: Warning: Cannot locate file `falcon_lsm_pinned_14604.ko'.\n",
      "vtune: Executing actions 22 % Resolving information for `pinbin'               \n",
      "vtune: Warning: Cannot locate debugging information for file `/usr/lib/x86_64-linux-gnu/libigc.so.1.0.11702.1'.\n",
      "vtune: Executing actions 100 % done                                            \n",
      "vtune: Using result path `/home/u181188/oneAPI_Essentials/06_Intel_VTune_Profiler/vtune_data'\n",
      "vtune: Executing actions 100 % done                                            \n",
      "Job Completed in 49 seconds.\n"
     ]
    }
   ],
   "source": [
    "! chmod 755 vtune_collect.sh; if [ -x \"$(command -v qsub)\" ]; then ./q vtune_collect.sh; else ./vtune_collect.sh; fi"
   ]
  },
  {
   "cell_type": "markdown",
   "metadata": {},
   "source": [
    "## Display VTune™ Summary"
   ]
  },
  {
   "cell_type": "markdown",
   "metadata": {},
   "source": [
    "Display VTune™ summary report generated in html format"
   ]
  },
  {
   "cell_type": "markdown",
   "metadata": {},
   "source": [
    "### Display VTune™ Report for GPU"
   ]
  },
  {
   "cell_type": "markdown",
   "metadata": {},
   "source": [
    "**STEP 3:** Display VTune™ summary report by running ▶ the command below "
   ]
  },
  {
   "cell_type": "code",
   "execution_count": 5,
   "metadata": {},
   "outputs": [
    {
     "data": {
      "text/html": [
       "\n",
       "        <iframe\n",
       "            width=\"960\"\n",
       "            height=\"600\"\n",
       "            src=\"summary.html\"\n",
       "            frameborder=\"0\"\n",
       "            allowfullscreen\n",
       "            \n",
       "        ></iframe>\n",
       "        "
      ],
      "text/plain": [
       "<IPython.lib.display.IFrame at 0x7fca5c28ac70>"
      ]
     },
     "execution_count": 5,
     "metadata": {},
     "output_type": "execute_result"
    }
   ],
   "source": [
    "from IPython.display import IFrame\n",
    "IFrame(src='summary.html', width=960, height=600)"
   ]
  },
  {
   "cell_type": "markdown",
   "metadata": {},
   "source": [
    "## Summary"
   ]
  },
  {
   "cell_type": "markdown",
   "metadata": {},
   "source": [
    "VTune™ command line is useful for quick analysis of DPC++ application to get performance metric and tune applications."
   ]
  },
  {
   "cell_type": "markdown",
   "metadata": {},
   "source": [
    "<html><body><span style=\"color:green\"><h1>Survey</h1></span></body></html>\n",
    "\n",
    "[We would appreciate any feedback you’d care to give, so that we can improve the overall training quality and experience. Thanks! ](https://intel.az1.qualtrics.com/jfe/form/SV_5jyMumvDk1YKDeR)"
   ]
  }
 ],
 "metadata": {
  "kernelspec": {
   "display_name": "Python 3 (Intel® oneAPI 2023.0)",
   "language": "python",
   "name": "c009-intel_distribution_of_python_3_oneapi-beta05-python"
  },
  "language_info": {
   "codemirror_mode": {
    "name": "ipython",
    "version": 3
   },
   "file_extension": ".py",
   "mimetype": "text/x-python",
   "name": "python",
   "nbconvert_exporter": "python",
   "pygments_lexer": "ipython3",
   "version": "3.9.15"
  },
  "toc": {
   "base_numbering": 1,
   "nav_menu": {},
   "number_sections": true,
   "sideBar": true,
   "skip_h1_title": false,
   "title_cell": "Table of Contents",
   "title_sidebar": "Contents",
   "toc_cell": false,
   "toc_position": {
    "height": "calc(100% - 180px)",
    "left": "10px",
    "top": "150px",
    "width": "310.667px"
   },
   "toc_section_display": true,
   "toc_window_display": true
  }
 },
 "nbformat": 4,
 "nbformat_minor": 4
}
